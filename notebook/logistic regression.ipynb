{
 "cells": [
  {
   "cell_type": "code",
   "execution_count": 662,
   "metadata": {
    "execution": {
     "iopub.execute_input": "2021-08-28T03:26:37.943141Z",
     "iopub.status.busy": "2021-08-28T03:26:37.942422Z",
     "iopub.status.idle": "2021-08-28T03:26:37.947637Z",
     "shell.execute_reply": "2021-08-28T03:26:37.946900Z",
     "shell.execute_reply.started": "2021-08-28T03:26:37.943087Z"
    }
   },
   "outputs": [],
   "source": [
    "# import pandas\n",
    "import pandas as pd\n",
    "# read the csv review dataset\n",
    "trip = pd.read_csv('../dataset/tripadvisor_hotel_reviews.csv')\n",
    "# Let's create a new data frame\n",
    "trip = trip[(trip['Rating']==5)|(trip['Rating']==2)|(trip['Rating']==1)][['Review','Rating']]\n",
    "# Lets modify the Rating column\n",
    "trip['Rating'] = trip['Rating'].apply(lambda rating: 'Pos' if rating==5 else 'Neg')\n",
    "# reseting the index because after removing some rows, the index gets crowded\n",
    "trip.reset_index(inplace=True)\n"
   ]
  },
  {
   "cell_type": "code",
   "execution_count": 663,
   "metadata": {},
   "outputs": [],
   "source": [
    "# the data preprocessing takes time\n",
    "# clean data\n",
    "clean_data = pd.read_csv('clean_data.csv')\n",
    "corpus_clean_data = clean_data.to_numpy().flatten()\n",
    "corpus_clean_data_usable = corpus_clean_data.tolist()"
   ]
  },
  {
   "cell_type": "code",
   "execution_count": 664,
   "metadata": {
    "execution": {
     "iopub.execute_input": "2021-08-28T03:30:03.472590Z",
     "iopub.status.busy": "2021-08-28T03:30:03.472180Z",
     "iopub.status.idle": "2021-08-28T03:30:05.021997Z",
     "shell.execute_reply": "2021-08-28T03:30:05.021145Z",
     "shell.execute_reply.started": "2021-08-28T03:30:03.472555Z"
    },
    "scrolled": true
   },
   "outputs": [],
   "source": [
    "from sklearn.feature_extraction.text import CountVectorizer\n",
    "cv = CountVectorizer(ngram_range=(1,2),max_features=28000)\n",
    "X = cv.fit_transform(corpus_clean_data_usable)"
   ]
  },
  {
   "cell_type": "code",
   "execution_count": 665,
   "metadata": {
    "execution": {
     "iopub.execute_input": "2021-08-28T03:30:07.761587Z",
     "iopub.status.busy": "2021-08-28T03:30:07.761077Z",
     "iopub.status.idle": "2021-08-28T03:30:07.768500Z",
     "shell.execute_reply": "2021-08-28T03:30:07.767669Z",
     "shell.execute_reply.started": "2021-08-28T03:30:07.761532Z"
    }
   },
   "outputs": [],
   "source": [
    "y = pd.get_dummies(trip['Rating'])\n",
    "y = y.iloc[:,1].values"
   ]
  },
  {
   "cell_type": "code",
   "execution_count": 666,
   "metadata": {
    "execution": {
     "iopub.execute_input": "2021-08-28T03:30:10.032014Z",
     "iopub.status.busy": "2021-08-28T03:30:10.031426Z",
     "iopub.status.idle": "2021-08-28T03:30:10.043157Z",
     "shell.execute_reply": "2021-08-28T03:30:10.042177Z",
     "shell.execute_reply.started": "2021-08-28T03:30:10.031962Z"
    }
   },
   "outputs": [],
   "source": [
    "#train test split\n",
    "from sklearn.model_selection import train_test_split\n",
    "X_train, X_test,y_train,y_test = train_test_split(X,y,test_size=0.30,random_state=3)"
   ]
  },
  {
   "cell_type": "code",
   "execution_count": 667,
   "metadata": {},
   "outputs": [],
   "source": [
    "# 1. import\n",
    "from sklearn.linear_model import LogisticRegression\n",
    "\n",
    "# 2. instantiate a logistic regression model\n",
    "logreg = LogisticRegression(solver='liblinear')"
   ]
  },
  {
   "cell_type": "code",
   "execution_count": 668,
   "metadata": {},
   "outputs": [
    {
     "name": "stdout",
     "output_type": "stream",
     "text": [
      "Wall time: 898 ms\n"
     ]
    }
   ],
   "source": [
    "%time model = logreg.fit(X_train, y_train)"
   ]
  },
  {
   "cell_type": "code",
   "execution_count": 669,
   "metadata": {},
   "outputs": [],
   "source": [
    "# 4. make class predictions for X_test_dtm\n",
    "y_pred_class = logreg.predict(X_test)"
   ]
  },
  {
   "cell_type": "code",
   "execution_count": 670,
   "metadata": {},
   "outputs": [],
   "source": [
    "from sklearn import metrics"
   ]
  },
  {
   "cell_type": "code",
   "execution_count": 671,
   "metadata": {},
   "outputs": [
    {
     "data": {
      "text/plain": [
       "0.9641401792991035"
      ]
     },
     "execution_count": 671,
     "metadata": {},
     "output_type": "execute_result"
    }
   ],
   "source": [
    "metrics.accuracy_score(y_test, y_pred_class)"
   ]
  },
  {
   "cell_type": "code",
   "execution_count": 655,
   "metadata": {},
   "outputs": [
    {
     "data": {
      "text/plain": [
       "0.9911131078581913"
      ]
     },
     "execution_count": 655,
     "metadata": {},
     "output_type": "execute_result"
    }
   ],
   "source": [
    "metrics.roc_auc_score(y_test, y_pred_prob)"
   ]
  },
  {
   "cell_type": "code",
   "execution_count": 659,
   "metadata": {},
   "outputs": [
    {
     "name": "stdout",
     "output_type": "stream",
     "text": [
      "Negative\n",
      "0.9711403395371263\n"
     ]
    }
   ],
   "source": [
    "# Checking the training model with custom input data\n",
    "positive_message = \"The first thing that you notice about this hotel is the stench of marijuana. It permeates the lobby and many rooms. Even when we requested a non smoking room, our room smelled really bad.\"\n",
    "negative_message = \"\"\n",
    "data = [positive_message.lower()]\n",
    "vect = cv.transform(data).toarray()\n",
    "my_prediction = model.predict(vect)\n",
    "my_prediction_prob = model.predict_proba(vect)\n",
    "\n",
    "if my_prediction==1:\n",
    "    print(\"Positive\")\n",
    "    print(my_prediction_prob[0][1])\n",
    "else:\n",
    "    print(\"Negative\")\n",
    "    print(my_prediction_prob[0][0])\n",
    "    "
   ]
  },
  {
   "cell_type": "code",
   "execution_count": 622,
   "metadata": {},
   "outputs": [
    {
     "data": {
      "text/plain": [
       "array([[ 872,   81],\n",
       "       [  51, 2677]], dtype=int64)"
      ]
     },
     "execution_count": 622,
     "metadata": {},
     "output_type": "execute_result"
    }
   ],
   "source": [
    "metrics.confusion_matrix(y_test,y_pred_class)"
   ]
  },
  {
   "cell_type": "code",
   "execution_count": 660,
   "metadata": {},
   "outputs": [],
   "source": [
    "# Dump the machine learning model outsite so you can use outsite and not retrain again and again\n",
    "# filename = 'logistic_regression_model.pkl'\n",
    "# pickle.dump(model, open(filename, 'wb'))\n",
    "# pickle.dump(cv, open('transform_logistic.pkl', 'wb'))"
   ]
  }
 ],
 "metadata": {
  "kernelspec": {
   "display_name": "Python 3",
   "language": "python",
   "name": "python3"
  },
  "language_info": {
   "codemirror_mode": {
    "name": "ipython",
    "version": 3
   },
   "file_extension": ".py",
   "mimetype": "text/x-python",
   "name": "python",
   "nbconvert_exporter": "python",
   "pygments_lexer": "ipython3",
   "version": "3.8.8"
  }
 },
 "nbformat": 4,
 "nbformat_minor": 4
}
