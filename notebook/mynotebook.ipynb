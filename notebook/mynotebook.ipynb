{
 "cells": [
  {
   "cell_type": "code",
   "execution_count": 27,
   "metadata": {
    "execution": {
     "iopub.execute_input": "2021-08-28T03:26:37.943141Z",
     "iopub.status.busy": "2021-08-28T03:26:37.942422Z",
     "iopub.status.idle": "2021-08-28T03:26:37.947637Z",
     "shell.execute_reply": "2021-08-28T03:26:37.946900Z",
     "shell.execute_reply.started": "2021-08-28T03:26:37.943087Z"
    }
   },
   "outputs": [],
   "source": [
    "# import pandas and pickle\n",
    "import pandas as pd\n",
    "# import pickle"
   ]
  },
  {
   "cell_type": "code",
   "execution_count": 28,
   "metadata": {
    "execution": {
     "iopub.execute_input": "2021-08-28T03:26:39.931554Z",
     "iopub.status.busy": "2021-08-28T03:26:39.930941Z",
     "iopub.status.idle": "2021-08-28T03:26:40.104686Z",
     "shell.execute_reply": "2021-08-28T03:26:40.103898Z",
     "shell.execute_reply.started": "2021-08-28T03:26:39.931502Z"
    },
    "scrolled": true
   },
   "outputs": [],
   "source": [
    "# read the csv review dataset\n",
    "trip = pd.read_csv('../dataset/tripadvisor_hotel_reviews.csv')"
   ]
  },
  {
   "cell_type": "code",
   "execution_count": 29,
   "metadata": {
    "execution": {
     "iopub.execute_input": "2021-08-28T03:26:52.732445Z",
     "iopub.status.busy": "2021-08-28T03:26:52.731908Z",
     "iopub.status.idle": "2021-08-28T03:26:52.750583Z",
     "shell.execute_reply": "2021-08-28T03:26:52.749202Z",
     "shell.execute_reply.started": "2021-08-28T03:26:52.732393Z"
    }
   },
   "outputs": [],
   "source": [
    "# Let's create a new data frame\n",
    " \n",
    "trip = trip[(trip['Rating']==5)|(trip['Rating']==2)|(trip['Rating']==1)][['Review','Rating']]\n",
    "\n",
    "# Lets modify the Rating column\n",
    "trip['Rating'] = trip['Rating'].apply(lambda rating: 'Pos' if rating==5 else 'Neg')"
   ]
  },
  {
   "cell_type": "code",
   "execution_count": 30,
   "metadata": {
    "execution": {
     "iopub.execute_input": "2021-08-28T03:26:56.041545Z",
     "iopub.status.busy": "2021-08-28T03:26:56.041034Z",
     "iopub.status.idle": "2021-08-28T03:26:56.053117Z",
     "shell.execute_reply": "2021-08-28T03:26:56.052244Z",
     "shell.execute_reply.started": "2021-08-28T03:26:56.041511Z"
    },
    "scrolled": true
   },
   "outputs": [
    {
     "data": {
      "text/html": [
       "<div>\n",
       "<style scoped>\n",
       "    .dataframe tbody tr th:only-of-type {\n",
       "        vertical-align: middle;\n",
       "    }\n",
       "\n",
       "    .dataframe tbody tr th {\n",
       "        vertical-align: top;\n",
       "    }\n",
       "\n",
       "    .dataframe thead th {\n",
       "        text-align: right;\n",
       "    }\n",
       "</style>\n",
       "<table border=\"1\" class=\"dataframe\">\n",
       "  <thead>\n",
       "    <tr style=\"text-align: right;\">\n",
       "      <th></th>\n",
       "      <th>index</th>\n",
       "      <th>Review</th>\n",
       "      <th>Rating</th>\n",
       "    </tr>\n",
       "  </thead>\n",
       "  <tbody>\n",
       "    <tr>\n",
       "      <th>0</th>\n",
       "      <td>1</td>\n",
       "      <td>ok nothing special charge diamond member hilto...</td>\n",
       "      <td>Neg</td>\n",
       "    </tr>\n",
       "    <tr>\n",
       "      <th>1</th>\n",
       "      <td>3</td>\n",
       "      <td>unique, great stay, wonderful time hotel monac...</td>\n",
       "      <td>Pos</td>\n",
       "    </tr>\n",
       "    <tr>\n",
       "      <th>2</th>\n",
       "      <td>4</td>\n",
       "      <td>great stay great stay, went seahawk game aweso...</td>\n",
       "      <td>Pos</td>\n",
       "    </tr>\n",
       "    <tr>\n",
       "      <th>3</th>\n",
       "      <td>5</td>\n",
       "      <td>love monaco staff husband stayed hotel crazy w...</td>\n",
       "      <td>Pos</td>\n",
       "    </tr>\n",
       "    <tr>\n",
       "      <th>4</th>\n",
       "      <td>6</td>\n",
       "      <td>cozy stay rainy city, husband spent 7 nights m...</td>\n",
       "      <td>Pos</td>\n",
       "    </tr>\n",
       "  </tbody>\n",
       "</table>\n",
       "</div>"
      ],
      "text/plain": [
       "   index                                             Review Rating\n",
       "0      1  ok nothing special charge diamond member hilto...    Neg\n",
       "1      3  unique, great stay, wonderful time hotel monac...    Pos\n",
       "2      4  great stay great stay, went seahawk game aweso...    Pos\n",
       "3      5  love monaco staff husband stayed hotel crazy w...    Pos\n",
       "4      6  cozy stay rainy city, husband spent 7 nights m...    Pos"
      ]
     },
     "execution_count": 30,
     "metadata": {},
     "output_type": "execute_result"
    }
   ],
   "source": [
    "# reseting the index because after removing some rows, the index gets crowded\n",
    "trip.reset_index(inplace=True)\n",
    "trip.head()"
   ]
  },
  {
   "cell_type": "code",
   "execution_count": 31,
   "metadata": {
    "execution": {
     "iopub.execute_input": "2021-08-28T03:26:59.881665Z",
     "iopub.status.busy": "2021-08-28T03:26:59.881152Z",
     "iopub.status.idle": "2021-08-28T03:26:59.885796Z",
     "shell.execute_reply": "2021-08-28T03:26:59.884807Z",
     "shell.execute_reply.started": "2021-08-28T03:26:59.881618Z"
    }
   },
   "outputs": [],
   "source": [
    "#Data cleaning and preprocessing\n",
    "import re\n",
    "import nltk\n",
    "from nltk.corpus import stopwords\n",
    "from nltk.stem.porter import PorterStemmer\n",
    "from nltk.stem import WordNetLemmatizer"
   ]
  },
  {
   "cell_type": "code",
   "execution_count": 32,
   "metadata": {
    "execution": {
     "iopub.execute_input": "2021-08-28T03:27:02.861260Z",
     "iopub.status.busy": "2021-08-28T03:27:02.860890Z",
     "iopub.status.idle": "2021-08-28T03:27:02.865382Z",
     "shell.execute_reply": "2021-08-28T03:27:02.864378Z",
     "shell.execute_reply.started": "2021-08-28T03:27:02.861225Z"
    }
   },
   "outputs": [],
   "source": [
    "# Lemmatization object\n",
    "ps = WordNetLemmatizer()\n",
    "corpus = []"
   ]
  },
  {
   "cell_type": "code",
   "execution_count": 33,
   "metadata": {
    "execution": {
     "iopub.execute_input": "2021-08-28T03:27:07.881333Z",
     "iopub.status.busy": "2021-08-28T03:27:07.880954Z",
     "iopub.status.idle": "2021-08-28T03:29:56.733783Z",
     "shell.execute_reply": "2021-08-28T03:29:56.732700Z",
     "shell.execute_reply.started": "2021-08-28T03:27:07.881301Z"
    }
   },
   "outputs": [],
   "source": [
    "# Text preprocessing\n",
    "# keep only text based\n",
    "# lower all the letters\n",
    "# split the words\n",
    "# for i in range(0,len(trip)):\n",
    "#     review = re.sub('[^a-zA-Z]',\" \",trip['Review'][i])\n",
    "#     review = review.lower()\n",
    "#     review = review.split()\n",
    "#     review = [ps.lemmatize(word) for word in review if not word in stopwords.words('english')]\n",
    "#     review = ' '.join(review)\n",
    "#     corpus.append(review)"
   ]
  },
  {
   "cell_type": "code",
   "execution_count": 34,
   "metadata": {},
   "outputs": [],
   "source": [
    "# the data preprocessing takes time\n",
    "# clean data\n",
    "clean_data = pd.read_csv('clean_data.csv')\n",
    "corpus_clean_data = clean_data.to_numpy().flatten()\n",
    "corpus_clean_data_usable = corpus_clean_data.tolist()"
   ]
  },
  {
   "cell_type": "code",
   "execution_count": 35,
   "metadata": {
    "execution": {
     "iopub.execute_input": "2021-08-28T03:30:03.472590Z",
     "iopub.status.busy": "2021-08-28T03:30:03.472180Z",
     "iopub.status.idle": "2021-08-28T03:30:05.021997Z",
     "shell.execute_reply": "2021-08-28T03:30:05.021145Z",
     "shell.execute_reply.started": "2021-08-28T03:30:03.472555Z"
    },
    "scrolled": true
   },
   "outputs": [],
   "source": [
    "from sklearn.feature_extraction.text import CountVectorizer\n",
    "cv = CountVectorizer()\n",
    "X = cv.fit_transform(corpus_clean_data_usable)"
   ]
  },
  {
   "cell_type": "code",
   "execution_count": 36,
   "metadata": {
    "execution": {
     "iopub.execute_input": "2021-08-28T03:30:07.761587Z",
     "iopub.status.busy": "2021-08-28T03:30:07.761077Z",
     "iopub.status.idle": "2021-08-28T03:30:07.768500Z",
     "shell.execute_reply": "2021-08-28T03:30:07.767669Z",
     "shell.execute_reply.started": "2021-08-28T03:30:07.761532Z"
    }
   },
   "outputs": [],
   "source": [
    "y = pd.get_dummies(trip['Rating'])\n",
    "y = y.iloc[:,1].values"
   ]
  },
  {
   "cell_type": "code",
   "execution_count": 37,
   "metadata": {
    "execution": {
     "iopub.execute_input": "2021-08-28T03:30:10.032014Z",
     "iopub.status.busy": "2021-08-28T03:30:10.031426Z",
     "iopub.status.idle": "2021-08-28T03:30:10.043157Z",
     "shell.execute_reply": "2021-08-28T03:30:10.042177Z",
     "shell.execute_reply.started": "2021-08-28T03:30:10.031962Z"
    }
   },
   "outputs": [],
   "source": [
    "#train test split\n",
    "from sklearn.model_selection import train_test_split\n",
    "X_train, X_test,y_train,y_test = train_test_split(X,y,test_size=0.20,random_state=3)"
   ]
  },
  {
   "cell_type": "code",
   "execution_count": 38,
   "metadata": {
    "execution": {
     "iopub.execute_input": "2021-08-28T03:30:15.851507Z",
     "iopub.status.busy": "2021-08-28T03:30:15.851120Z",
     "iopub.status.idle": "2021-08-28T03:30:15.870196Z",
     "shell.execute_reply": "2021-08-28T03:30:15.869125Z",
     "shell.execute_reply.started": "2021-08-28T03:30:15.851471Z"
    }
   },
   "outputs": [],
   "source": [
    "#training model using Naive bayes classifier\n",
    "\n",
    "from sklearn.naive_bayes import MultinomialNB\n",
    "spam_detect_model = MultinomialNB().fit(X_train,y_train)\n",
    "# for the accuracy\n",
    "spam_detect_model.score(X_test,y_test)\n",
    "\n",
    "y_pred = spam_detect_model.predict(X_test)"
   ]
  },
  {
   "cell_type": "code",
   "execution_count": 39,
   "metadata": {
    "execution": {
     "iopub.execute_input": "2021-08-28T03:30:18.521212Z",
     "iopub.status.busy": "2021-08-28T03:30:18.520841Z",
     "iopub.status.idle": "2021-08-28T03:30:18.530917Z",
     "shell.execute_reply": "2021-08-28T03:30:18.529986Z",
     "shell.execute_reply.started": "2021-08-28T03:30:18.521181Z"
    }
   },
   "outputs": [],
   "source": [
    "#compare y test and y_pred\n",
    "#confusion matrix is a 2x2 matrix and it tells,\n",
    "#how many number of elements are correctly predicted.\n",
    "\n",
    "from sklearn.metrics import confusion_matrix\n",
    "confusion_m = confusion_matrix(y_test,y_pred)"
   ]
  },
  {
   "cell_type": "code",
   "execution_count": 40,
   "metadata": {
    "execution": {
     "iopub.execute_input": "2021-08-28T03:30:28.012532Z",
     "iopub.status.busy": "2021-08-28T03:30:28.011968Z",
     "iopub.status.idle": "2021-08-28T03:30:28.017963Z",
     "shell.execute_reply": "2021-08-28T03:30:28.017176Z",
     "shell.execute_reply.started": "2021-08-28T03:30:28.012497Z"
    }
   },
   "outputs": [
    {
     "data": {
      "text/plain": [
       "array([[ 575,   68],\n",
       "       [  45, 1766]], dtype=int64)"
      ]
     },
     "execution_count": 40,
     "metadata": {},
     "output_type": "execute_result"
    }
   ],
   "source": [
    "confusion_m"
   ]
  },
  {
   "cell_type": "code",
   "execution_count": 41,
   "metadata": {
    "execution": {
     "iopub.execute_input": "2021-08-28T03:30:31.321979Z",
     "iopub.status.busy": "2021-08-28T03:30:31.321443Z",
     "iopub.status.idle": "2021-08-28T03:30:31.326437Z",
     "shell.execute_reply": "2021-08-28T03:30:31.325426Z",
     "shell.execute_reply.started": "2021-08-28T03:30:31.321943Z"
    }
   },
   "outputs": [],
   "source": [
    "#checking accuracy score\n",
    "\n",
    "from sklearn.metrics import accuracy_score\n",
    "accuracy = accuracy_score(y_test,y_pred)"
   ]
  },
  {
   "cell_type": "code",
   "execution_count": 42,
   "metadata": {
    "execution": {
     "iopub.execute_input": "2021-08-28T03:30:33.081478Z",
     "iopub.status.busy": "2021-08-28T03:30:33.080954Z",
     "iopub.status.idle": "2021-08-28T03:30:33.087220Z",
     "shell.execute_reply": "2021-08-28T03:30:33.086043Z",
     "shell.execute_reply.started": "2021-08-28T03:30:33.081443Z"
    }
   },
   "outputs": [
    {
     "data": {
      "text/plain": [
       "0.9539527302363489"
      ]
     },
     "execution_count": 42,
     "metadata": {},
     "output_type": "execute_result"
    }
   ],
   "source": [
    "# print accuracy\n",
    "accuracy"
   ]
  },
  {
   "cell_type": "code",
   "execution_count": 43,
   "metadata": {
    "execution": {
     "iopub.execute_input": "2021-08-28T03:30:41.872245Z",
     "iopub.status.busy": "2021-08-28T03:30:41.871864Z",
     "iopub.status.idle": "2021-08-28T03:30:41.879904Z",
     "shell.execute_reply": "2021-08-28T03:30:41.878750Z",
     "shell.execute_reply.started": "2021-08-28T03:30:41.872203Z"
    }
   },
   "outputs": [
    {
     "name": "stdout",
     "output_type": "stream",
     "text": [
      "Positive\n"
     ]
    }
   ],
   "source": [
    "# Checking the training model with custom input data\n",
    "positive_message = \"the hotel was nice and comfy\"\n",
    "negative_message = \"the hotel was bad and the staff was rude\"\n",
    "data = [positive_message]\n",
    "vect = cv.transform(data).toarray()\n",
    "my_prediction = spam_detect_model.predict(vect)\n",
    "if my_prediction==1:\n",
    "    print(\"Positive\")\n",
    "else:\n",
    "    print(\"Negative\")\n",
    "    "
   ]
  },
  {
   "cell_type": "code",
   "execution_count": 44,
   "metadata": {
    "execution": {
     "iopub.execute_input": "2021-08-28T03:30:48.531255Z",
     "iopub.status.busy": "2021-08-28T03:30:48.530754Z",
     "iopub.status.idle": "2021-08-28T03:30:48.534078Z",
     "shell.execute_reply": "2021-08-28T03:30:48.533374Z",
     "shell.execute_reply.started": "2021-08-28T03:30:48.531221Z"
    }
   },
   "outputs": [],
   "source": [
    "# Dump the machine learning model outsite so you can use outsite and not retrain again and again\n",
    "# pickle.dump(cv, open('tranform.pkl', 'wb'))\n",
    "# filename = 'nlp_model.pkl'\n",
    "# pickle.dump(spam_detect_model, open(filename, 'wb'))"
   ]
  }
 ],
 "metadata": {
  "kernelspec": {
   "display_name": "Python 3",
   "language": "python",
   "name": "python3"
  },
  "language_info": {
   "codemirror_mode": {
    "name": "ipython",
    "version": 3
   },
   "file_extension": ".py",
   "mimetype": "text/x-python",
   "name": "python",
   "nbconvert_exporter": "python",
   "pygments_lexer": "ipython3",
   "version": "3.8.8"
  }
 },
 "nbformat": 4,
 "nbformat_minor": 4
}
